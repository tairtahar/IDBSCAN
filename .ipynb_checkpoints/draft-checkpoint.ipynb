{
 "cells": [
  {
   "cell_type": "code",
   "execution_count": 2,
   "metadata": {},
   "outputs": [],
   "source": [
    "from sklearn.metrics.cluster import adjusted_rand_score, silhouette_score\n",
    "from sklearn.cluster import DBSCAN\n",
    "import utils\n",
    "from sklearn.neighbors import NearestNeighbors\n",
    "import matplotlib.pyplot as plt\n",
    "import pandas as pd\n",
    "import numpy as np\n",
    "from sklearn.preprocessing import MinMaxScaler, StandardScaler"
   ]
  },
  {
   "cell_type": "code",
   "execution_count": 3,
   "metadata": {},
   "outputs": [
    {
     "data": {
      "text/plain": [
       "(10,)"
      ]
     },
     "execution_count": 3,
     "metadata": {},
     "output_type": "execute_result"
    }
   ],
   "source": [
    "# df, true_class = utils.load_preprocess_letters() \n",
    "# df, true_class = utils.load_preprocessing_catadata()\n",
    "df, true_class = utils.load_preprocess_pendigit()\n",
    "df.head()\n",
    "# df = pd.DataFrame(scaler.transform(df))\n",
    "# df_numeric._get_numeric_data()\n",
    "# df_numeric.head()\n",
    "np.unique(true_class).shape"
   ]
  },
  {
   "cell_type": "code",
   "execution_count": 5,
   "metadata": {},
   "outputs": [
    {
     "data": {
      "text/html": [
       "<div>\n",
       "<style scoped>\n",
       "    .dataframe tbody tr th:only-of-type {\n",
       "        vertical-align: middle;\n",
       "    }\n",
       "\n",
       "    .dataframe tbody tr th {\n",
       "        vertical-align: top;\n",
       "    }\n",
       "\n",
       "    .dataframe thead th {\n",
       "        text-align: right;\n",
       "    }\n",
       "</style>\n",
       "<table border=\"1\" class=\"dataframe\">\n",
       "  <thead>\n",
       "    <tr style=\"text-align: right;\">\n",
       "      <th></th>\n",
       "      <th>0</th>\n",
       "      <th>1</th>\n",
       "      <th>2</th>\n",
       "      <th>3</th>\n",
       "      <th>4</th>\n",
       "      <th>5</th>\n",
       "      <th>6</th>\n",
       "      <th>7</th>\n",
       "      <th>8</th>\n",
       "      <th>9</th>\n",
       "      <th>10</th>\n",
       "      <th>11</th>\n",
       "      <th>12</th>\n",
       "      <th>13</th>\n",
       "      <th>14</th>\n",
       "      <th>15</th>\n",
       "    </tr>\n",
       "  </thead>\n",
       "  <tbody>\n",
       "    <tr>\n",
       "      <th>0</th>\n",
       "      <td>47.0</td>\n",
       "      <td>100.0</td>\n",
       "      <td>27.0</td>\n",
       "      <td>81.0</td>\n",
       "      <td>57.0</td>\n",
       "      <td>37.0</td>\n",
       "      <td>26.0</td>\n",
       "      <td>0.0</td>\n",
       "      <td>0.0</td>\n",
       "      <td>23.0</td>\n",
       "      <td>56.0</td>\n",
       "      <td>53.0</td>\n",
       "      <td>100.0</td>\n",
       "      <td>90.0</td>\n",
       "      <td>40.0</td>\n",
       "      <td>98.0</td>\n",
       "    </tr>\n",
       "    <tr>\n",
       "      <th>1</th>\n",
       "      <td>0.0</td>\n",
       "      <td>89.0</td>\n",
       "      <td>27.0</td>\n",
       "      <td>100.0</td>\n",
       "      <td>42.0</td>\n",
       "      <td>75.0</td>\n",
       "      <td>29.0</td>\n",
       "      <td>45.0</td>\n",
       "      <td>15.0</td>\n",
       "      <td>15.0</td>\n",
       "      <td>37.0</td>\n",
       "      <td>0.0</td>\n",
       "      <td>69.0</td>\n",
       "      <td>2.0</td>\n",
       "      <td>100.0</td>\n",
       "      <td>6.0</td>\n",
       "    </tr>\n",
       "    <tr>\n",
       "      <th>2</th>\n",
       "      <td>0.0</td>\n",
       "      <td>57.0</td>\n",
       "      <td>31.0</td>\n",
       "      <td>68.0</td>\n",
       "      <td>72.0</td>\n",
       "      <td>90.0</td>\n",
       "      <td>100.0</td>\n",
       "      <td>100.0</td>\n",
       "      <td>76.0</td>\n",
       "      <td>75.0</td>\n",
       "      <td>50.0</td>\n",
       "      <td>51.0</td>\n",
       "      <td>28.0</td>\n",
       "      <td>25.0</td>\n",
       "      <td>16.0</td>\n",
       "      <td>0.0</td>\n",
       "    </tr>\n",
       "    <tr>\n",
       "      <th>3</th>\n",
       "      <td>0.0</td>\n",
       "      <td>100.0</td>\n",
       "      <td>7.0</td>\n",
       "      <td>92.0</td>\n",
       "      <td>5.0</td>\n",
       "      <td>68.0</td>\n",
       "      <td>19.0</td>\n",
       "      <td>45.0</td>\n",
       "      <td>86.0</td>\n",
       "      <td>34.0</td>\n",
       "      <td>100.0</td>\n",
       "      <td>45.0</td>\n",
       "      <td>74.0</td>\n",
       "      <td>23.0</td>\n",
       "      <td>67.0</td>\n",
       "      <td>0.0</td>\n",
       "    </tr>\n",
       "    <tr>\n",
       "      <th>4</th>\n",
       "      <td>0.0</td>\n",
       "      <td>67.0</td>\n",
       "      <td>49.0</td>\n",
       "      <td>83.0</td>\n",
       "      <td>100.0</td>\n",
       "      <td>100.0</td>\n",
       "      <td>81.0</td>\n",
       "      <td>80.0</td>\n",
       "      <td>60.0</td>\n",
       "      <td>60.0</td>\n",
       "      <td>40.0</td>\n",
       "      <td>40.0</td>\n",
       "      <td>33.0</td>\n",
       "      <td>20.0</td>\n",
       "      <td>47.0</td>\n",
       "      <td>0.0</td>\n",
       "    </tr>\n",
       "  </tbody>\n",
       "</table>\n",
       "</div>"
      ],
      "text/plain": [
       "     0      1     2      3      4      5      6      7     8     9      10  \\\n",
       "0  47.0  100.0  27.0   81.0   57.0   37.0   26.0    0.0   0.0  23.0   56.0   \n",
       "1   0.0   89.0  27.0  100.0   42.0   75.0   29.0   45.0  15.0  15.0   37.0   \n",
       "2   0.0   57.0  31.0   68.0   72.0   90.0  100.0  100.0  76.0  75.0   50.0   \n",
       "3   0.0  100.0   7.0   92.0    5.0   68.0   19.0   45.0  86.0  34.0  100.0   \n",
       "4   0.0   67.0  49.0   83.0  100.0  100.0   81.0   80.0  60.0  60.0   40.0   \n",
       "\n",
       "     11     12    13     14    15  \n",
       "0  53.0  100.0  90.0   40.0  98.0  \n",
       "1   0.0   69.0   2.0  100.0   6.0  \n",
       "2  51.0   28.0  25.0   16.0   0.0  \n",
       "3  45.0   74.0  23.0   67.0   0.0  \n",
       "4  40.0   33.0  20.0   47.0   0.0  "
      ]
     },
     "execution_count": 5,
     "metadata": {},
     "output_type": "execute_result"
    }
   ],
   "source": [
    "df.head()\n",
    "# len(np.unique(true_class))"
   ]
  },
  {
   "cell_type": "code",
   "execution_count": null,
   "metadata": {},
   "outputs": [],
   "source": [
    "flat_list = [item for sublist in true_class for item in sublist]"
   ]
  },
  {
   "cell_type": "code",
   "execution_count": 5,
   "metadata": {},
   "outputs": [
    {
     "name": "stdout",
     "output_type": "stream",
     "text": [
      "[ 0  0  0  1  0  0  0  0  0  0  0  2 -1  0 -1  0  3  0  0  0  0  4  0  0\n",
      "  0 31  0  0  0  0  2  0  0  0  0  0 19  4  0  0  0  0  0  0  0  0  0 17\n",
      "  0  0  0  0  0  0  0  0  0  0  0  0  0  0  0  0  0  0 -1  0  0  0  0  0\n",
      "  0  2  0 -1 -1  0  0  0 -1  1  0  0  0  0  0  0  0  0  0  2  0 -1  0  0\n",
      "  2  0 -1  0]\n",
      "[26. 16. 19.  8.  8.  6. 14. 18. 13.  4. 22.  1. 11.  4. 19.  8.  5. 26.\n",
      " 15. 17. 17. 12. 22. 24. 22. 13. 25.  4.  5. 14.  1.  4. 26. 14. 24.  6.\n",
      " 14. 12. 14. 26. 25.  9. 23. 21. 15. 20. 15. 16.  3.  7.  2. 11. 23. 22.\n",
      " 23.  8. 26. 10.  6.  4. 19. 20. 15. 26.  2.  6. 13. 20. 15. 11. 26. 20.\n",
      " 23.  1. 17. 26.  8. 18.  9. 18. 21. 21.  3. 15.  5.  4. 21. 18.  5.  7.\n",
      "  2.  1. 25. 25. 15.  7.  1.  3.  8. 18.]\n",
      "ari:  0.008845289908193499\n",
      "unique ground truth [ 1.  2.  3.  4.  5.  6.  7.  8.  9. 10. 11. 12. 13. 14. 15. 16. 17. 18.\n",
      " 19. 20. 21. 22. 23. 24. 25. 26.]\n",
      "unique predictions [-1  0  1  2  3  4  5  6  7  8  9 10 11 12 13 14 15 16 17 18 19 20 21 22\n",
      " 23 24 25 26 27 28 29 30 31 32 33]\n"
     ]
    },
    {
     "data": {
      "text/plain": [
       "<Figure size 432x288 with 0 Axes>"
      ]
     },
     "metadata": {},
     "output_type": "display_data"
    }
   ],
   "source": [
    "# eps = 3.1\n",
    "ARI = []\n",
    "# epsilons = np.arange(0.01, 1, 0.01).tolist()\n",
    "# #mushrooms params:\n",
    "# eps = 2.5\n",
    "# minpts = 4\n",
    "# eps = 5.09\n",
    "# minpts = 60\n",
    "# eps = 3.8\n",
    "# minpts = 680\n",
    "\n",
    "#letter params\n",
    "# eps = 0.5\n",
    "# minpts = 8\n",
    "# eps = 0.22\n",
    "# minpts = 6\n",
    "\n",
    "#cadata params:\n",
    "# eps = 200\n",
    "# minpts = 8\n",
    "\n",
    "#pendigit params\n",
    "eps = 40\n",
    "minpts = 4\n",
    "\n",
    "# for eps in epsilons:\n",
    "clustring = DBSCAN(eps=eps, min_samples=minpts).fit(np.asarray(df))\n",
    "predictions = clustring.labels_\n",
    "# print(\"size of prediction \", len(predictions))\n",
    "# print(\"size if true_class\",len(flat_list))\n",
    "ARI = adjusted_rand_score(true_class, predictions)\n",
    "    \n",
    "fig = plt.figure()\n",
    "# ax = plt.axes()\n",
    "# ax.plot(epsilons, ARI);\n",
    "print(predictions[0:100])\n",
    "print(true_class[0:100])\n",
    "print(\"ari: \", ARI)\n",
    "print(\"unique ground truth\", np.unique(true_class))\n",
    "print(\"unique predictions\", np.unique(predictions))"
   ]
  },
  {
   "cell_type": "code",
   "execution_count": null,
   "metadata": {},
   "outputs": [],
   "source": [
    "neigh = NearestNeighbors(n_neighbors=4)\n",
    "nbrs = neigh.fit(df)\n",
    "distances, indices = nbrs.kneighbors(df)\n",
    "distances = np.sort(distances, axis=0)\n",
    "distances = distances[:,1]\n",
    "plt.plot(distances)\n"
   ]
  },
  {
   "cell_type": "code",
   "execution_count": null,
   "metadata": {},
   "outputs": [],
   "source": [
    "print(\"check\", len(predictions[0:100]))"
   ]
  },
  {
   "cell_type": "code",
   "execution_count": null,
   "metadata": {},
   "outputs": [],
   "source": [
    "print(eps)\n",
    "print(minpts)"
   ]
  },
  {
   "cell_type": "code",
   "execution_count": null,
   "metadata": {},
   "outputs": [],
   "source": [
    "from sklearn.datasets import load_svmlight_file"
   ]
  },
  {
   "cell_type": "code",
   "execution_count": null,
   "metadata": {},
   "outputs": [],
   "source": [
    "data = load_svmlight_file(\"datasets/cadata.txt\")[0]"
   ]
  },
  {
   "cell_type": "code",
   "execution_count": null,
   "metadata": {},
   "outputs": [],
   "source": [
    "data, true_class = load_svmlight_file(\"datasets/cadata.txt\")\n",
    "df = pd.DataFrame(data.todense())\n",
    "true_class = pd.DataFrame(true_class)"
   ]
  },
  {
   "cell_type": "code",
   "execution_count": null,
   "metadata": {},
   "outputs": [],
   "source": [
    "df.head()"
   ]
  }
 ],
 "metadata": {
  "kernelspec": {
   "display_name": "Python 3",
   "language": "python",
   "name": "python3"
  },
  "language_info": {
   "codemirror_mode": {
    "name": "ipython",
    "version": 3
   },
   "file_extension": ".py",
   "mimetype": "text/x-python",
   "name": "python",
   "nbconvert_exporter": "python",
   "pygments_lexer": "ipython3",
   "version": "3.8.5"
  }
 },
 "nbformat": 4,
 "nbformat_minor": 4
}
