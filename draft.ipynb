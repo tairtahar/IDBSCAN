{
 "cells": [
  {
   "cell_type": "code",
   "execution_count": 4,
   "metadata": {},
   "outputs": [],
   "source": [
    "from sklearn.metrics.cluster import adjusted_rand_score, silhouette_score\n",
    "from sklearn.cluster import DBSCAN, OPTICS\n",
    "import utils, algorithms\n",
    "from sklearn.neighbors import NearestNeighbors\n",
    "import matplotlib.pyplot as plt\n",
    "import pandas as pd\n",
    "import numpy as np\n",
    "from sklearn.preprocessing import MinMaxScaler, StandardScaler\n",
    "from scipy.spatial.distance import pdist, squareform\n",
    "# from scipy.spatial import KDTree\n",
    "from sklearn.neighbors import BallTree, KDTree"
   ]
  },
  {
   "cell_type": "code",
   "execution_count": 5,
   "metadata": {},
   "outputs": [
    {
     "data": {
      "text/plain": [
       "(2,)"
      ]
     },
     "execution_count": 5,
     "metadata": {},
     "output_type": "execute_result"
    }
   ],
   "source": [
    "# df, true_class = utils.load_preprocess_letters() \n",
    "# df, true_class = utils.load_preprocessing_catadata()\n",
    "df, true_class = utils.load_preprocess_mushrooms()\n",
    "df.head()\n",
    "# df = pd.DataFrame(scaler.transform(df))\n",
    "# df_numeric._get_numeric_data()\n",
    "# df_numeric.head()\n",
    "np.unique(true_class).shape"
   ]
  },
  {
   "cell_type": "code",
   "execution_count": 8,
   "metadata": {},
   "outputs": [],
   "source": [
    "clustering = OPTICS().fit(df)"
   ]
  },
  {
   "cell_type": "code",
   "execution_count": 9,
   "metadata": {},
   "outputs": [
    {
     "name": "stdout",
     "output_type": "stream",
     "text": [
      "0.27532551217141465\n"
     ]
    }
   ],
   "source": [
    "predictions = clustering.labels_\n",
    "ARI = adjusted_rand_score(true_class, predictions)\n",
    "print(ARI)"
   ]
  },
  {
   "cell_type": "code",
   "execution_count": 3,
   "metadata": {},
   "outputs": [],
   "source": [
    "eps = 2.5\n",
    "minpts = 4\n",
    "data = np.asarray(df)\n",
    "labels = [0] * len(data)\n",
    "algorithm = algorithms.density_asterisk(data, eps, minpts, eps)"
   ]
  },
  {
   "cell_type": "code",
   "execution_count": 4,
   "metadata": {},
   "outputs": [],
   "source": [
    "algorithm.dist_mat = pdist(algorithm.data)"
   ]
  },
  {
   "cell_type": "code",
   "execution_count": 5,
   "metadata": {},
   "outputs": [],
   "source": [
    "def find_row(idx, group_idx):\n",
    "    row_dist = []\n",
    "    for current_idx in group_idx:\n",
    "        row_dist.append(algorithm.find_specific_dist(idx,current_idx))\n",
    "    return row_dist"
   ]
  },
  {
   "cell_type": "code",
   "execution_count": 8,
   "metadata": {},
   "outputs": [],
   "source": [
    "idx1 = 30\n",
    "s = [20, 30, 60, 40, 55, 20, 10]\n",
    "row_distances = find_row(idx1, s)"
   ]
  },
  {
   "cell_type": "code",
   "execution_count": 11,
   "metadata": {},
   "outputs": [
    {
     "data": {
      "text/plain": [
       "[2.449489742783178,\n",
       " 0,\n",
       " 4.242640687119285,\n",
       " 3.1622776601683795,\n",
       " 3.1622776601683795,\n",
       " 2.449489742783178,\n",
       " 2.449489742783178]"
      ]
     },
     "execution_count": 11,
     "metadata": {},
     "output_type": "execute_result"
    }
   ],
   "source": [
    "row_distances"
   ]
  },
  {
   "cell_type": "code",
   "execution_count": 12,
   "metadata": {},
   "outputs": [
    {
     "data": {
      "text/plain": [
       "60"
      ]
     },
     "execution_count": 12,
     "metadata": {},
     "output_type": "execute_result"
    }
   ],
   "source": [
    "s[np.argmax(row_distances)]"
   ]
  },
  {
   "cell_type": "code",
   "execution_count": 18,
   "metadata": {},
   "outputs": [
    {
     "data": {
      "text/plain": [
       "0"
      ]
     },
     "execution_count": 18,
     "metadata": {},
     "output_type": "execute_result"
    }
   ],
   "source": [
    "np.argmax([5])"
   ]
  },
  {
   "cell_type": "code",
   "execution_count": 17,
   "metadata": {},
   "outputs": [
    {
     "data": {
      "text/plain": [
       "[20, 40, 55, 20, 10]"
      ]
     },
     "execution_count": 17,
     "metadata": {},
     "output_type": "execute_result"
    }
   ],
   "source": [
    "s"
   ]
  },
  {
   "cell_type": "code",
   "execution_count": 91,
   "metadata": {},
   "outputs": [
    {
     "ename": "AttributeError",
     "evalue": "'numpy.ndarray' object has no attribute 'm_x'",
     "output_type": "error",
     "traceback": [
      "\u001b[1;31m---------------------------------------------------------------------------\u001b[0m",
      "\u001b[1;31mAttributeError\u001b[0m                            Traceback (most recent call last)",
      "\u001b[1;32m<ipython-input-91-8665585ccfd3>\u001b[0m in \u001b[0;36m<module>\u001b[1;34m\u001b[0m\n\u001b[1;32m----> 1\u001b[1;33m \u001b[0mz\u001b[0m \u001b[1;33m=\u001b[0m \u001b[0mnp\u001b[0m\u001b[1;33m.\u001b[0m\u001b[0marray\u001b[0m\u001b[1;33m(\u001b[0m\u001b[1;33m[\u001b[0m\u001b[0mcomplex\u001b[0m\u001b[1;33m(\u001b[0m\u001b[0mc\u001b[0m\u001b[1;33m.\u001b[0m\u001b[0mm_x\u001b[0m\u001b[1;33m,\u001b[0m \u001b[0mc\u001b[0m\u001b[1;33m.\u001b[0m\u001b[0mm_y\u001b[0m\u001b[1;33m)\u001b[0m \u001b[1;32mfor\u001b[0m \u001b[0mc\u001b[0m \u001b[1;32min\u001b[0m \u001b[0mdata\u001b[0m\u001b[1;33m]\u001b[0m\u001b[1;33m)\u001b[0m\u001b[1;33m\u001b[0m\u001b[1;33m\u001b[0m\u001b[0m\n\u001b[0m",
      "\u001b[1;32m<ipython-input-91-8665585ccfd3>\u001b[0m in \u001b[0;36m<listcomp>\u001b[1;34m(.0)\u001b[0m\n\u001b[1;32m----> 1\u001b[1;33m \u001b[0mz\u001b[0m \u001b[1;33m=\u001b[0m \u001b[0mnp\u001b[0m\u001b[1;33m.\u001b[0m\u001b[0marray\u001b[0m\u001b[1;33m(\u001b[0m\u001b[1;33m[\u001b[0m\u001b[0mcomplex\u001b[0m\u001b[1;33m(\u001b[0m\u001b[0mc\u001b[0m\u001b[1;33m.\u001b[0m\u001b[0mm_x\u001b[0m\u001b[1;33m,\u001b[0m \u001b[0mc\u001b[0m\u001b[1;33m.\u001b[0m\u001b[0mm_y\u001b[0m\u001b[1;33m)\u001b[0m \u001b[1;32mfor\u001b[0m \u001b[0mc\u001b[0m \u001b[1;32min\u001b[0m \u001b[0mdata\u001b[0m\u001b[1;33m]\u001b[0m\u001b[1;33m)\u001b[0m\u001b[1;33m\u001b[0m\u001b[1;33m\u001b[0m\u001b[0m\n\u001b[0m",
      "\u001b[1;31mAttributeError\u001b[0m: 'numpy.ndarray' object has no attribute 'm_x'"
     ]
    }
   ],
   "source": [
    "z = np.array([complex(c.m_x, c.m_y) for c in data])"
   ]
  },
  {
   "cell_type": "code",
   "execution_count": null,
   "metadata": {},
   "outputs": [],
   "source": [
    "# eps = 3.1\n",
    "ARI = []\n",
    "# epsilons = np.arange(0.01, 1, 0.01).tolist()\n",
    "# #mushrooms params:\n",
    "eps = 2.5\n",
    "minpts = 4\n",
    "# eps = 5.09\n",
    "# minpts = 60\n",
    "# eps = 3.8\n",
    "# minpts = 680\n",
    "\n",
    "#letter params\n",
    "# eps = 0.5\n",
    "# minpts = 8\n",
    "# eps = 0.22\n",
    "# minpts = 6\n",
    "\n",
    "#cadata params:\n",
    "# eps = 200\n",
    "# minpts = 8\n",
    "\n",
    "#pendigit params\n",
    "# eps = 0.09\n",
    "# minpts = 3\n",
    "\n",
    "# for eps in epsilons:\n",
    "clustring = DBSCAN(eps=eps, min_samples=minpts).fit(np.asarray(df))\n",
    "predictions = clustring.labels_\n",
    "# print(\"size of prediction \", len(predictions))\n",
    "# print(\"size if true_class\",len(flat_list))\n",
    "ARI = adjusted_rand_score(true_class, predictions)\n",
    "    \n",
    "fig = plt.figure()\n",
    "# ax = plt.axes()\n",
    "# ax.plot(epsilons, ARI);\n",
    "print(predictions[0:100])\n",
    "print(true_class[0:100])\n",
    "print(\"ari: \", ARI)\n",
    "print(\"unique ground truth\", np.unique(true_class))\n",
    "print(\"unique predictions\", np.unique(predictions))"
   ]
  },
  {
   "cell_type": "code",
   "execution_count": null,
   "metadata": {},
   "outputs": [],
   "source": [
    "neigh = NearestNeighbors(n_neighbors=3)\n",
    "nbrs = neigh.fit(df)\n",
    "distances, indices = nbrs.kneighbors(df)\n",
    "distances = np.sort(distances, axis=0)\n",
    "distances = distances[:,1]\n",
    "plt.plot(distances)\n"
   ]
  },
  {
   "cell_type": "code",
   "execution_count": null,
   "metadata": {},
   "outputs": [],
   "source": [
    "print(\"check\", len(predictions[0:100]))"
   ]
  },
  {
   "cell_type": "code",
   "execution_count": null,
   "metadata": {},
   "outputs": [],
   "source": [
    "print(eps)\n",
    "print(minpts)"
   ]
  },
  {
   "cell_type": "code",
   "execution_count": null,
   "metadata": {},
   "outputs": [],
   "source": [
    "from sklearn.datasets import load_svmlight_file"
   ]
  },
  {
   "cell_type": "code",
   "execution_count": null,
   "metadata": {},
   "outputs": [],
   "source": [
    "data = load_svmlight_file(\"datasets/cadata.txt\")[0]"
   ]
  },
  {
   "cell_type": "code",
   "execution_count": null,
   "metadata": {},
   "outputs": [],
   "source": [
    "data, true_class = load_svmlight_file(\"datasets/cadata.txt\")\n",
    "df = pd.DataFrame(data.todense())\n",
    "true_class = pd.DataFrame(true_class)"
   ]
  },
  {
   "cell_type": "code",
   "execution_count": null,
   "metadata": {},
   "outputs": [],
   "source": [
    "df.head()"
   ]
  }
 ],
 "metadata": {
  "kernelspec": {
   "display_name": "Python 3",
   "language": "python",
   "name": "python3"
  },
  "language_info": {
   "codemirror_mode": {
    "name": "ipython",
    "version": 3
   },
   "file_extension": ".py",
   "mimetype": "text/x-python",
   "name": "python",
   "nbconvert_exporter": "python",
   "pygments_lexer": "ipython3",
   "version": "3.8.5"
  }
 },
 "nbformat": 4,
 "nbformat_minor": 4
}
