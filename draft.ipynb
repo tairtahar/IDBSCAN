{
 "cells": [
  {
   "cell_type": "code",
   "execution_count": 2,
   "metadata": {},
   "outputs": [],
   "source": [
    "from sklearn.metrics.cluster import adjusted_rand_score, silhouette_score\n",
    "from sklearn.cluster import DBSCAN\n",
    "import utils\n",
    "from sklearn.neighbors import NearestNeighbors\n",
    "import matplotlib.pyplot as plt\n",
    "import pandas as pd\n",
    "import numpy as np\n",
    "from sklearn.preprocessing import MinMaxScaler, StandardScaler"
   ]
  },
  {
   "cell_type": "code",
   "execution_count": 3,
   "metadata": {},
   "outputs": [
    {
     "data": {
      "text/plain": [
       "(28,)"
      ]
     },
     "execution_count": 3,
     "metadata": {},
     "output_type": "execute_result"
    }
   ],
   "source": [
    "# df, true_class = utils.load_preprocess_letters() \n",
    "# df, true_class = utils.load_preprocessing_catadata()\n",
    "df, true_class = utils.load_preprocess_abalone()\n",
    "df.head()\n",
    "# df = pd.DataFrame(scaler.transform(df))\n",
    "# df_numeric._get_numeric_data()\n",
    "# df_numeric.head()\n",
    "np.unique(true_class).shape"
   ]
  },
  {
   "cell_type": "code",
   "execution_count": 4,
   "metadata": {},
   "outputs": [
    {
     "data": {
      "text/html": [
       "<div>\n",
       "<style scoped>\n",
       "    .dataframe tbody tr th:only-of-type {\n",
       "        vertical-align: middle;\n",
       "    }\n",
       "\n",
       "    .dataframe tbody tr th {\n",
       "        vertical-align: top;\n",
       "    }\n",
       "\n",
       "    .dataframe thead th {\n",
       "        text-align: right;\n",
       "    }\n",
       "</style>\n",
       "<table border=\"1\" class=\"dataframe\">\n",
       "  <thead>\n",
       "    <tr style=\"text-align: right;\">\n",
       "      <th></th>\n",
       "      <th>0</th>\n",
       "      <th>1</th>\n",
       "      <th>2</th>\n",
       "      <th>3</th>\n",
       "      <th>4</th>\n",
       "      <th>5</th>\n",
       "      <th>6</th>\n",
       "      <th>7</th>\n",
       "    </tr>\n",
       "  </thead>\n",
       "  <tbody>\n",
       "    <tr>\n",
       "      <th>0</th>\n",
       "      <td>-1.0</td>\n",
       "      <td>0.027027</td>\n",
       "      <td>0.042017</td>\n",
       "      <td>-0.831858</td>\n",
       "      <td>-0.637330</td>\n",
       "      <td>-0.699395</td>\n",
       "      <td>-0.735352</td>\n",
       "      <td>-0.704036</td>\n",
       "    </tr>\n",
       "    <tr>\n",
       "      <th>1</th>\n",
       "      <td>-1.0</td>\n",
       "      <td>-0.256757</td>\n",
       "      <td>-0.294118</td>\n",
       "      <td>-0.840708</td>\n",
       "      <td>-0.841686</td>\n",
       "      <td>-0.867518</td>\n",
       "      <td>-0.873601</td>\n",
       "      <td>-0.863478</td>\n",
       "    </tr>\n",
       "    <tr>\n",
       "      <th>2</th>\n",
       "      <td>0.0</td>\n",
       "      <td>0.229730</td>\n",
       "      <td>0.226891</td>\n",
       "      <td>-0.761062</td>\n",
       "      <td>-0.521870</td>\n",
       "      <td>-0.656355</td>\n",
       "      <td>-0.628703</td>\n",
       "      <td>-0.584454</td>\n",
       "    </tr>\n",
       "    <tr>\n",
       "      <th>3</th>\n",
       "      <td>-1.0</td>\n",
       "      <td>-0.013513</td>\n",
       "      <td>0.042017</td>\n",
       "      <td>-0.778761</td>\n",
       "      <td>-0.635913</td>\n",
       "      <td>-0.711500</td>\n",
       "      <td>-0.701119</td>\n",
       "      <td>-0.694071</td>\n",
       "    </tr>\n",
       "    <tr>\n",
       "      <th>4</th>\n",
       "      <td>1.0</td>\n",
       "      <td>-0.310811</td>\n",
       "      <td>-0.327731</td>\n",
       "      <td>-0.858407</td>\n",
       "      <td>-0.856207</td>\n",
       "      <td>-0.880968</td>\n",
       "      <td>-0.897301</td>\n",
       "      <td>-0.893373</td>\n",
       "    </tr>\n",
       "  </tbody>\n",
       "</table>\n",
       "</div>"
      ],
      "text/plain": [
       "     0         1         2         3         4         5         6         7\n",
       "0 -1.0  0.027027  0.042017 -0.831858 -0.637330 -0.699395 -0.735352 -0.704036\n",
       "1 -1.0 -0.256757 -0.294118 -0.840708 -0.841686 -0.867518 -0.873601 -0.863478\n",
       "2  0.0  0.229730  0.226891 -0.761062 -0.521870 -0.656355 -0.628703 -0.584454\n",
       "3 -1.0 -0.013513  0.042017 -0.778761 -0.635913 -0.711500 -0.701119 -0.694071\n",
       "4  1.0 -0.310811 -0.327731 -0.858407 -0.856207 -0.880968 -0.897301 -0.893373"
      ]
     },
     "execution_count": 4,
     "metadata": {},
     "output_type": "execute_result"
    }
   ],
   "source": [
    "df.head()\n",
    "# len(np.unique(true_class))"
   ]
  },
  {
   "cell_type": "code",
   "execution_count": null,
   "metadata": {},
   "outputs": [],
   "source": [
    "flat_list = [item for sublist in true_class for item in sublist]"
   ]
  },
  {
   "cell_type": "code",
   "execution_count": 5,
   "metadata": {},
   "outputs": [
    {
     "name": "stdout",
     "output_type": "stream",
     "text": [
      "[ 0  0  1  0  2  2  1  1  0  1  1  0  0  1  1  0  2  1  0  0  0  2  1  1\n",
      "  1  1  1  0  0  0  0  1  0  1  1  0  1  1  1  0  1  1  2  2  2  2  0  1\n",
      "  2  1  2  0  0  1  0  1  0  0  2  1  0  0  1  0  0  0  1  1  1  2  0  1\n",
      "  1  0  1  1  0  1  1  1  1 -1  1 -1  0  1  0  0  1  1  0  0  0  1  0  0\n",
      "  0  0  0  1]\n",
      "[15.  7.  9. 10.  7.  8. 20. 16.  9. 19. 14. 10. 11. 10. 10. 12.  7. 10.\n",
      "  7.  9. 11. 10. 12.  9. 10. 11. 11. 12. 15. 11. 10. 15. 18. 19. 13.  8.\n",
      " 16.  8. 11.  9.  9. 14.  5.  5.  4.  7.  9.  7.  6.  9.  8.  7. 10. 10.\n",
      "  7.  8.  8.  8.  4.  7.  7.  9. 10.  7.  8.  8. 12. 13. 10.  6. 13.  8.\n",
      " 20. 11. 13. 15.  9. 10. 11. 14.  9. 12. 16. 21. 14. 12. 13. 10.  9. 12.\n",
      " 15. 12. 13. 10. 15. 14.  9.  8.  7. 10.]\n",
      "ari:  0.040928486891257804\n",
      "unique ground truth [ 1.  2.  3.  4.  5.  6.  7.  8.  9. 10. 11. 12. 13. 14. 15. 16. 17. 18.\n",
      " 19. 20. 21. 22. 23. 24. 25. 26. 27. 29.]\n",
      "unique predictions [-1  0  1  2  3]\n"
     ]
    },
    {
     "data": {
      "text/plain": [
       "<Figure size 432x288 with 0 Axes>"
      ]
     },
     "metadata": {},
     "output_type": "display_data"
    }
   ],
   "source": [
    "# eps = 3.1\n",
    "ARI = []\n",
    "# epsilons = np.arange(0.01, 1, 0.01).tolist()\n",
    "# #mushrooms params:\n",
    "# eps = 2.5\n",
    "# minpts = 4\n",
    "# eps = 5.09\n",
    "# minpts = 60\n",
    "# eps = 3.8\n",
    "# minpts = 680\n",
    "\n",
    "#letter params\n",
    "# eps = 0.5\n",
    "# minpts = 8\n",
    "# eps = 0.22\n",
    "# minpts = 6\n",
    "\n",
    "#cadata params:\n",
    "# eps = 200\n",
    "# minpts = 8\n",
    "\n",
    "#pendigit params\n",
    "eps = 0.2\n",
    "minpts = 3\n",
    "\n",
    "# for eps in epsilons:\n",
    "clustring = DBSCAN(eps=eps, min_samples=minpts).fit(np.asarray(df))\n",
    "predictions = clustring.labels_\n",
    "# print(\"size of prediction \", len(predictions))\n",
    "# print(\"size if true_class\",len(flat_list))\n",
    "ARI = adjusted_rand_score(true_class, predictions)\n",
    "    \n",
    "fig = plt.figure()\n",
    "# ax = plt.axes()\n",
    "# ax.plot(epsilons, ARI);\n",
    "print(predictions[0:100])\n",
    "print(true_class[0:100])\n",
    "print(\"ari: \", ARI)\n",
    "print(\"unique ground truth\", np.unique(true_class))\n",
    "print(\"unique predictions\", np.unique(predictions))"
   ]
  },
  {
   "cell_type": "code",
   "execution_count": null,
   "metadata": {},
   "outputs": [],
   "source": [
    "neigh = NearestNeighbors(n_neighbors=4)\n",
    "nbrs = neigh.fit(df)\n",
    "distances, indices = nbrs.kneighbors(df)\n",
    "distances = np.sort(distances, axis=0)\n",
    "distances = distances[:,1]\n",
    "plt.plot(distances)\n"
   ]
  },
  {
   "cell_type": "code",
   "execution_count": null,
   "metadata": {},
   "outputs": [],
   "source": [
    "print(\"check\", len(predictions[0:100]))"
   ]
  },
  {
   "cell_type": "code",
   "execution_count": null,
   "metadata": {},
   "outputs": [],
   "source": [
    "print(eps)\n",
    "print(minpts)"
   ]
  },
  {
   "cell_type": "code",
   "execution_count": null,
   "metadata": {},
   "outputs": [],
   "source": [
    "from sklearn.datasets import load_svmlight_file"
   ]
  },
  {
   "cell_type": "code",
   "execution_count": null,
   "metadata": {},
   "outputs": [],
   "source": [
    "data = load_svmlight_file(\"datasets/cadata.txt\")[0]"
   ]
  },
  {
   "cell_type": "code",
   "execution_count": null,
   "metadata": {},
   "outputs": [],
   "source": [
    "data, true_class = load_svmlight_file(\"datasets/cadata.txt\")\n",
    "df = pd.DataFrame(data.todense())\n",
    "true_class = pd.DataFrame(true_class)"
   ]
  },
  {
   "cell_type": "code",
   "execution_count": null,
   "metadata": {},
   "outputs": [],
   "source": [
    "df.head()"
   ]
  }
 ],
 "metadata": {
  "kernelspec": {
   "display_name": "Python 3",
   "language": "python",
   "name": "python3"
  },
  "language_info": {
   "codemirror_mode": {
    "name": "ipython",
    "version": 3
   },
   "file_extension": ".py",
   "mimetype": "text/x-python",
   "name": "python",
   "nbconvert_exporter": "python",
   "pygments_lexer": "ipython3",
   "version": "3.8.5"
  }
 },
 "nbformat": 4,
 "nbformat_minor": 4
}
